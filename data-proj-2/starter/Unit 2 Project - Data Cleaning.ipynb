{
 "cells": [
  {
   "cell_type": "markdown",
   "id": "a4718e28",
   "metadata": {},
   "source": [
    "# Unit 2 Project - Data Cleaning "
   ]
  },
  {
   "cell_type": "markdown",
   "id": "7e497310",
   "metadata": {},
   "source": [
    "## Part 1: Prepare Environment and Jupyter Notebook"
   ]
  },
  {
   "cell_type": "markdown",
   "id": "af19cd7e",
   "metadata": {},
   "source": [
    "### Step 1: Create Virtual Environment\n",
    "\n",
    "This step should have been completed prior to opening the Jupyter Notebook. Refer to project instructions."
   ]
  },
  {
   "cell_type": "markdown",
   "id": "056e8cce",
   "metadata": {},
   "source": [
    "### Step 2: Open Jupyter Notebook File\n",
    "\n",
    "Congratulations! If you're here it means you have completed Step 2. "
   ]
  },
  {
   "cell_type": "markdown",
   "id": "4af0ea78",
   "metadata": {},
   "source": [
    "### Step 3: Load .csv Files into DataFrames"
   ]
  },
  {
   "cell_type": "code",
   "execution_count": 11,
   "id": "f639cd26",
   "metadata": {},
   "outputs": [],
   "source": [
    "####### TO DO ########\n",
    "\n",
    "# load house_data.csv into a dataframe using pd.read_csv()\n",
    "\n",
    "# load house_sales.csv into a dataframe using pd.read_csv()\n",
    "\n",
    "######################"
   ]
  },
  {
   "cell_type": "code",
   "execution_count": 12,
   "id": "e242b38c",
   "metadata": {},
   "outputs": [],
   "source": [
    "###### TO DO ######\n",
    "\n",
    "# use .head() on your new dataframe to show the dataframe was loaded succussfully\n"
   ]
  },
  {
   "cell_type": "code",
   "execution_count": 13,
   "id": "3ca8a987",
   "metadata": {},
   "outputs": [],
   "source": [
    "###### TO DO ######\n",
    "\n",
    "# use .head() on your second new dataframe to show the dataframe was loaded succussfully"
   ]
  },
  {
   "cell_type": "markdown",
   "id": "07f969b2",
   "metadata": {},
   "source": [
    "### Step 4: Create Data Dictionaries for Each Dataset"
   ]
  },
  {
   "cell_type": "code",
   "execution_count": 14,
   "id": "2da245c7",
   "metadata": {},
   "outputs": [],
   "source": [
    "####### TO DO ###########\n",
    "\n",
    "# Work in the cells below to fill in missing information in the data dictionary. "
   ]
  },
  {
   "cell_type": "markdown",
   "id": "65828aca",
   "metadata": {},
   "source": [
    "#### Data Dictionary - House Data\n",
    "\n",
    "**id**:\n",
    "> Description:\n",
    ">\n",
    "> Data type:\n",
    "\n",
    "**bedrooms**:\n",
    "> Description:\n",
    ">\n",
    "> Data type:\n",
    "\n",
    "**bathrooms**:\n",
    "> Description:\n",
    ">\n",
    "> Data type:\n",
    "\n",
    "**sqft_living**:\n",
    "> Description:\n",
    ">\n",
    "> Data type:\n",
    "\n",
    "**sqft_lot**:\n",
    "> Description:\n",
    ">\n",
    "> Data type:\n",
    "\n",
    "**floors**:\n",
    "> Description:\n",
    ">\n",
    "> Data type:\n",
    "\n",
    "**waterfront**:\n",
    "> Description:\n",
    ">\n",
    "> Data type:\n",
    "\n",
    "**view**:\n",
    "> Description:\n",
    ">\n",
    "> Data type:\n",
    "\n",
    "**condition**:\n",
    "> Description:\n",
    ">\n",
    "> Data type:\n",
    "\n",
    "**grade**:\n",
    "> Description:\n",
    ">\n",
    "> Data type:\n",
    "\n",
    "**sqft_above**:\n",
    "> Description:\n",
    ">\n",
    "> Data type:\n",
    "\n",
    "**sqft_basement**:\n",
    "> Description:\n",
    ">\n",
    "> Data type:\n",
    "\n",
    "**yr_built**:\n",
    "> Description:\n",
    ">\n",
    "> Data type:\n",
    "\n",
    "**yr_renovated**:\n",
    "> Description:\n",
    ">\n",
    "> Data type:\n",
    "\n",
    "**zipcode**:\n",
    "> Description:\n",
    ">\n",
    "> Data type:\n",
    "\n",
    "**lat**:\n",
    "> Description:\n",
    ">\n",
    "> Data type:\n",
    "\n",
    "**long**:\n",
    "> Description:\n",
    ">\n",
    "> Data type:\n",
    "\n",
    "**sqft_living15**:\n",
    "> Description:\n",
    ">\n",
    "> Data type:\n",
    "\n",
    "**sqft_lot15**:\n",
    "> Description:\n",
    ">\n",
    "> Data type:"
   ]
  },
  {
   "cell_type": "markdown",
   "id": "318fbad1",
   "metadata": {},
   "source": [
    "#### Data Dictionary - House Sales Data\n",
    "\n",
    "**id**:\n",
    "> Description:\n",
    ">\n",
    "> Data type:\n",
    "\n",
    "**date**:\n",
    "> Description:\n",
    ">\n",
    "> Data type:\n",
    "\n",
    "**price**:\n",
    "> Description:\n",
    ">\n",
    "> Data type:"
   ]
  },
  {
   "cell_type": "markdown",
   "id": "eead3ca6",
   "metadata": {},
   "source": [
    "### Step 5: Create Copies of DataFrames to Start Cleaning Process"
   ]
  },
  {
   "cell_type": "code",
   "execution_count": 15,
   "id": "d1157942",
   "metadata": {},
   "outputs": [],
   "source": [
    "###### TO DO ######\n",
    "\n",
    "# create a copy of house_data\n",
    "\n",
    "# create a copy of sales_data"
   ]
  },
  {
   "cell_type": "code",
   "execution_count": 16,
   "id": "ef764ac9",
   "metadata": {},
   "outputs": [],
   "source": [
    "###### TO DO ######\n",
    "\n",
    "# use .head() on your new dataframe to show the dataframe was copied succussfully\n"
   ]
  },
  {
   "cell_type": "code",
   "execution_count": 17,
   "id": "4b9fa892",
   "metadata": {},
   "outputs": [],
   "source": [
    "###### TO DO ######\n",
    "\n",
    "# use .head() on your second new dataframe to show the dataframe was copied succussfully"
   ]
  },
  {
   "cell_type": "markdown",
   "id": "02736475",
   "metadata": {},
   "source": [
    "## Part 2: Assess Data and Create Data Cleaning Plan"
   ]
  },
  {
   "cell_type": "markdown",
   "id": "1666070a",
   "metadata": {},
   "source": [
    "### Step 1: Check Column Names, Casing, Spelling, Etc."
   ]
  },
  {
   "cell_type": "code",
   "execution_count": 18,
   "id": "7a3cdce7",
   "metadata": {},
   "outputs": [],
   "source": [
    "######################### TO DO ###################################\n",
    "\n",
    "####### FOLLOW PROJECT DIRECTIONS TO COMPLETE THIS STEP ###########"
   ]
  },
  {
   "cell_type": "markdown",
   "id": "2a550fef",
   "metadata": {},
   "source": [
    "### Step 2: Validate Data Types"
   ]
  },
  {
   "cell_type": "code",
   "execution_count": 19,
   "id": "e293ef89",
   "metadata": {},
   "outputs": [],
   "source": [
    "######################### TO DO ###################################\n",
    "\n",
    "####### FOLLOW PROJECT DIRECTIONS TO COMPLETE THIS STEP ###########"
   ]
  },
  {
   "cell_type": "markdown",
   "id": "2eb00941",
   "metadata": {},
   "source": [
    "Q: Do any of the data types in the dataframe need to be changed?"
   ]
  },
  {
   "cell_type": "markdown",
   "id": "b401a0c1",
   "metadata": {},
   "source": [
    "A: #### TO DO #####"
   ]
  },
  {
   "cell_type": "markdown",
   "id": "dd4fd9cb",
   "metadata": {},
   "source": [
    "### Step 3: Detect Missing Values"
   ]
  },
  {
   "cell_type": "code",
   "execution_count": 20,
   "id": "1e69dc73",
   "metadata": {},
   "outputs": [],
   "source": [
    "######################### TO DO ###################################\n",
    "\n",
    "####### FOLLOW PROJECT DIRECTIONS TO COMPLETE THIS STEP ###########"
   ]
  },
  {
   "cell_type": "markdown",
   "id": "95c2804a",
   "metadata": {},
   "source": [
    "Q: Which variables/columns have missing values?"
   ]
  },
  {
   "cell_type": "markdown",
   "id": "2c83cda7",
   "metadata": {},
   "source": [
    "A: ##### TO DO #####"
   ]
  },
  {
   "cell_type": "markdown",
   "id": "ab831c3a",
   "metadata": {},
   "source": [
    "### Step 4: Detect Outliers"
   ]
  },
  {
   "cell_type": "code",
   "execution_count": 21,
   "id": "ab13309c",
   "metadata": {},
   "outputs": [],
   "source": [
    "######################### TO DO ###################################\n",
    "\n",
    "####### FOLLOW PROJECT DIRECTIONS TO COMPLETE THIS STEP ###########"
   ]
  },
  {
   "cell_type": "markdown",
   "id": "b662e1d4",
   "metadata": {},
   "source": [
    "Q: Which variables/columns have outliers?"
   ]
  },
  {
   "cell_type": "markdown",
   "id": "805b94b3",
   "metadata": {},
   "source": [
    "A: ##### TO DO #####"
   ]
  },
  {
   "cell_type": "markdown",
   "id": "fa8404ee",
   "metadata": {},
   "source": [
    "### Step 5: Write Data Cleaning Plan "
   ]
  },
  {
   "cell_type": "code",
   "execution_count": 22,
   "id": "b8363572",
   "metadata": {},
   "outputs": [],
   "source": [
    "######################### TO DO ###################################\n",
    "\n",
    "####### FOLLOW PROJECT DIRECTIONS TO COMPLETE THIS STEP ###########"
   ]
  },
  {
   "cell_type": "markdown",
   "id": "ffaead81",
   "metadata": {},
   "source": [
    "#### Data Cleaning Plan:\n",
    "\n",
    "####### TO DO #######"
   ]
  },
  {
   "cell_type": "markdown",
   "id": "2b013db9",
   "metadata": {},
   "source": [
    "## Part 3: Execute Data Cleaning Plan Using DEFINE / CLEAN / TEST Approach"
   ]
  },
  {
   "cell_type": "markdown",
   "id": "e3c2577a",
   "metadata": {},
   "source": [
    "### Step 1: Understand DEFINE / CLEAN / TEST Approach"
   ]
  },
  {
   "cell_type": "markdown",
   "id": "c83b7b6e",
   "metadata": {},
   "source": [
    "Refer to project instructions for an explanation of this step. You can copy and past the template in the cell below to use in each step of Part 3 as you are treating the issues you found in the data. "
   ]
  },
  {
   "cell_type": "code",
   "execution_count": 23,
   "id": "dde1bdbb",
   "metadata": {},
   "outputs": [],
   "source": [
    "### DEFINE ###\n",
    "\n",
    "\n",
    "### CLEAN ### \n",
    "\n",
    "\n",
    "### TEST ###\n",
    "\n"
   ]
  },
  {
   "cell_type": "markdown",
   "id": "659b978b",
   "metadata": {},
   "source": [
    "### Step 2: Treat Names / Casing / Spelling Issues"
   ]
  },
  {
   "cell_type": "code",
   "execution_count": 24,
   "id": "82b0d7c7",
   "metadata": {},
   "outputs": [],
   "source": [
    "######################### TO DO ###################################\n",
    "\n",
    "####### FOLLOW PROJECT DIRECTIONS TO COMPLETE THIS STEP ###########"
   ]
  },
  {
   "cell_type": "code",
   "execution_count": 25,
   "id": "96693e11",
   "metadata": {},
   "outputs": [],
   "source": [
    "### DEFINE ###\n",
    "\n",
    "\n",
    "### CLEAN ### \n",
    "\n",
    "\n",
    "### TEST ###\n",
    "\n"
   ]
  },
  {
   "cell_type": "markdown",
   "id": "33e34ee1",
   "metadata": {},
   "source": [
    "### Step 3: Treat Missing Values"
   ]
  },
  {
   "cell_type": "code",
   "execution_count": 26,
   "id": "86a525d0",
   "metadata": {},
   "outputs": [],
   "source": [
    "######################### TO DO ###################################\n",
    "\n",
    "####### FOLLOW PROJECT DIRECTIONS TO COMPLETE THIS STEP ###########"
   ]
  },
  {
   "cell_type": "code",
   "execution_count": 27,
   "id": "4ea01014",
   "metadata": {},
   "outputs": [],
   "source": [
    "### DEFINE ###\n",
    "\n",
    "\n",
    "### CLEAN ### \n",
    "\n",
    "\n",
    "### TEST ###\n",
    "\n"
   ]
  },
  {
   "cell_type": "markdown",
   "id": "8397cecc",
   "metadata": {},
   "source": [
    "### Step 4: Treat Outliers"
   ]
  },
  {
   "cell_type": "code",
   "execution_count": 28,
   "id": "217889fd",
   "metadata": {},
   "outputs": [],
   "source": [
    "######################### TO DO ###################################\n",
    "\n",
    "####### FOLLOW PROJECT DIRECTIONS TO COMPLETE THIS STEP ###########"
   ]
  },
  {
   "cell_type": "code",
   "execution_count": 29,
   "id": "0f99ae6a",
   "metadata": {},
   "outputs": [],
   "source": [
    "### DEFINE ###\n",
    "\n",
    "\n",
    "### CLEAN ### \n",
    "\n",
    "\n",
    "### TEST ###\n",
    "\n"
   ]
  },
  {
   "cell_type": "markdown",
   "id": "0a54e6b7",
   "metadata": {},
   "source": [
    "### Step 5: Summarize Actions Taken & Justify Approach"
   ]
  },
  {
   "cell_type": "code",
   "execution_count": 30,
   "id": "151012ff",
   "metadata": {},
   "outputs": [],
   "source": [
    "######################### TO DO ###################################\n",
    "\n",
    "####### FOLLOW PROJECT DIRECTIONS TO COMPLETE THIS STEP ###########"
   ]
  },
  {
   "cell_type": "markdown",
   "id": "0b825639",
   "metadata": {},
   "source": [
    "####### TO DO ###### - Edit this cell to add your summary and justification per project instructions."
   ]
  },
  {
   "cell_type": "markdown",
   "id": "be32e952",
   "metadata": {},
   "source": [
    "## Part 4: Re-Express Categorical Variables"
   ]
  },
  {
   "cell_type": "markdown",
   "id": "60bcdbc8",
   "metadata": {},
   "source": [
    "### Step 1: Determine Which Variables Need to Be Re-Expressed"
   ]
  },
  {
   "cell_type": "code",
   "execution_count": 31,
   "id": "4aecd3ad",
   "metadata": {},
   "outputs": [],
   "source": [
    "######################### TO DO ###################################\n",
    "\n",
    "####### FOLLOW PROJECT DIRECTIONS TO COMPLETE THIS STEP ###########"
   ]
  },
  {
   "cell_type": "markdown",
   "id": "1f856e80",
   "metadata": {},
   "source": [
    "List categorical variables which need to be re-expressed here:\n",
    "\n",
    "- ########## TO DO ###########\n",
    "- ########## TO DO ###########\n",
    "- ########## TO DO ###########\n",
    "- ########## TO DO ########### ........"
   ]
  },
  {
   "cell_type": "markdown",
   "id": "b6b6cbdb",
   "metadata": {},
   "source": [
    "### Step 2: Choose Method to Re-Express Variables"
   ]
  },
  {
   "cell_type": "code",
   "execution_count": 32,
   "id": "0c8977ed",
   "metadata": {},
   "outputs": [],
   "source": [
    "######################### TO DO ###################################\n",
    "\n",
    "####### FOLLOW PROJECT DIRECTIONS TO COMPLETE THIS STEP ###########"
   ]
  },
  {
   "cell_type": "markdown",
   "id": "dc0fd315",
   "metadata": {},
   "source": [
    "Edit this cell to explain which method you are choosing to re-express each variable and why. "
   ]
  },
  {
   "cell_type": "markdown",
   "id": "f4c3e76b",
   "metadata": {},
   "source": [
    "### Step 3: Perform Transformation "
   ]
  },
  {
   "cell_type": "code",
   "execution_count": 33,
   "id": "8542a6d1",
   "metadata": {},
   "outputs": [],
   "source": [
    "######################### TO DO ###################################\n",
    "\n",
    "####### FOLLOW PROJECT DIRECTIONS TO COMPLETE THIS STEP ###########"
   ]
  },
  {
   "cell_type": "markdown",
   "id": "f2ce1391",
   "metadata": {},
   "source": [
    "### Step 4: Summarize Actions Taken & Justify Approach"
   ]
  },
  {
   "cell_type": "code",
   "execution_count": 34,
   "id": "d87dcba1",
   "metadata": {},
   "outputs": [],
   "source": [
    "######################### TO DO ###################################\n",
    "\n",
    "####### FOLLOW PROJECT DIRECTIONS TO COMPLETE THIS STEP ###########"
   ]
  },
  {
   "cell_type": "markdown",
   "id": "fdd1a79e",
   "metadata": {},
   "source": [
    "Edit this cell to add your summary and justification per project instructions."
   ]
  },
  {
   "cell_type": "markdown",
   "id": "e592a7c3",
   "metadata": {},
   "source": [
    "## Part 5: Combine Datasets into Master DataFrame"
   ]
  },
  {
   "cell_type": "markdown",
   "id": "faf1efd6",
   "metadata": {},
   "source": [
    "### Step 1: Choose Method to Merge DataFrames into New Master DataFrame"
   ]
  },
  {
   "cell_type": "code",
   "execution_count": 35,
   "id": "f2915bd5",
   "metadata": {},
   "outputs": [],
   "source": [
    "######################### TO DO ###################################\n",
    "\n",
    "####### FOLLOW PROJECT DIRECTIONS TO COMPLETE THIS STEP ###########"
   ]
  },
  {
   "cell_type": "markdown",
   "id": "519d0760",
   "metadata": {},
   "source": [
    "Edit this cell to explain which method you are choosing to merge the data and why. "
   ]
  },
  {
   "cell_type": "markdown",
   "id": "4b9afb13",
   "metadata": {},
   "source": [
    "### Step 2: Merge DataFrames"
   ]
  },
  {
   "cell_type": "code",
   "execution_count": 36,
   "id": "99031a01",
   "metadata": {},
   "outputs": [],
   "source": [
    "######################### TO DO ###################################\n",
    "\n",
    "####### FOLLOW PROJECT DIRECTIONS TO COMPLETE THIS STEP ###########"
   ]
  },
  {
   "cell_type": "code",
   "execution_count": 37,
   "id": "55fb9a12",
   "metadata": {},
   "outputs": [],
   "source": [
    "# Use .head() method to print first few rows of new master dataframe"
   ]
  },
  {
   "cell_type": "markdown",
   "id": "676dfdc8",
   "metadata": {},
   "source": [
    "### Step 3: Save Master DataFrame to New .CSV"
   ]
  },
  {
   "cell_type": "code",
   "execution_count": 38,
   "id": "ccf2c160",
   "metadata": {},
   "outputs": [],
   "source": [
    "######################### TO DO ###################################\n",
    "\n",
    "####### FOLLOW PROJECT DIRECTIONS TO COMPLETE THIS STEP ###########"
   ]
  },
  {
   "cell_type": "markdown",
   "id": "a34a138b",
   "metadata": {},
   "source": [
    "### Step 4: Push to GitHub / Share Link with Tech Lead & SME"
   ]
  },
  {
   "cell_type": "markdown",
   "id": "16a67912",
   "metadata": {},
   "source": [
    "##### This step will be completed outside of Jupyter Notebook. See \"Submitting Project\" Video Walkthrough from Unit 1 if you have any questions. "
   ]
  },
  {
   "cell_type": "markdown",
   "id": "44a3a5a1",
   "metadata": {},
   "source": [
    "### Step 5: Record Brief Code Walkthrough / Share Link with Tech Lead & SME "
   ]
  },
  {
   "cell_type": "markdown",
   "id": "585c953e",
   "metadata": {},
   "source": [
    "##### This step will be completed outside of Jupyter Notebook. See \"Submitting Project\" Video Walkthrough from Unit 1 if you have any questions. "
   ]
  }
 ],
 "metadata": {
  "kernelspec": {
   "display_name": "Python 3 (ipykernel)",
   "language": "python",
   "name": "python3"
  },
  "language_info": {
   "codemirror_mode": {
    "name": "ipython",
    "version": 3
   },
   "file_extension": ".py",
   "mimetype": "text/x-python",
   "name": "python",
   "nbconvert_exporter": "python",
   "pygments_lexer": "ipython3",
   "version": "3.9.12"
  }
 },
 "nbformat": 4,
 "nbformat_minor": 5
}
